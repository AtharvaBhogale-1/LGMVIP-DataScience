{
 "cells": [
  {
   "cell_type": "code",
   "execution_count": 4,
   "id": "45d7d094",
   "metadata": {},
   "outputs": [],
   "source": [
    "import numpy as np\n",
    "import matplotlib.pyplot as plt\n",
    "import pandas as pd "
   ]
  },
  {
   "cell_type": "markdown",
   "id": "611b653d",
   "metadata": {},
   "source": [
    "# Now importing the dataset"
   ]
  },
  {
   "cell_type": "code",
   "execution_count": 5,
   "id": "119a3eff",
   "metadata": {},
   "outputs": [
    {
     "data": {
      "text/html": [
       "<div>\n",
       "<style scoped>\n",
       "    .dataframe tbody tr th:only-of-type {\n",
       "        vertical-align: middle;\n",
       "    }\n",
       "\n",
       "    .dataframe tbody tr th {\n",
       "        vertical-align: top;\n",
       "    }\n",
       "\n",
       "    .dataframe thead th {\n",
       "        text-align: right;\n",
       "    }\n",
       "</style>\n",
       "<table border=\"1\" class=\"dataframe\">\n",
       "  <thead>\n",
       "    <tr style=\"text-align: right;\">\n",
       "      <th></th>\n",
       "      <th>Date</th>\n",
       "      <th>Open</th>\n",
       "      <th>High</th>\n",
       "      <th>Low</th>\n",
       "      <th>Last</th>\n",
       "      <th>Close</th>\n",
       "      <th>Total Trade Quantity</th>\n",
       "      <th>Turnover (Lacs)</th>\n",
       "    </tr>\n",
       "  </thead>\n",
       "  <tbody>\n",
       "    <tr>\n",
       "      <th>0</th>\n",
       "      <td>2018-09-28</td>\n",
       "      <td>234.05</td>\n",
       "      <td>235.95</td>\n",
       "      <td>230.20</td>\n",
       "      <td>233.50</td>\n",
       "      <td>233.75</td>\n",
       "      <td>3069914</td>\n",
       "      <td>7162.35</td>\n",
       "    </tr>\n",
       "    <tr>\n",
       "      <th>1</th>\n",
       "      <td>2018-09-27</td>\n",
       "      <td>234.55</td>\n",
       "      <td>236.80</td>\n",
       "      <td>231.10</td>\n",
       "      <td>233.80</td>\n",
       "      <td>233.25</td>\n",
       "      <td>5082859</td>\n",
       "      <td>11859.95</td>\n",
       "    </tr>\n",
       "    <tr>\n",
       "      <th>2</th>\n",
       "      <td>2018-09-26</td>\n",
       "      <td>240.00</td>\n",
       "      <td>240.00</td>\n",
       "      <td>232.50</td>\n",
       "      <td>235.00</td>\n",
       "      <td>234.25</td>\n",
       "      <td>2240909</td>\n",
       "      <td>5248.60</td>\n",
       "    </tr>\n",
       "    <tr>\n",
       "      <th>3</th>\n",
       "      <td>2018-09-25</td>\n",
       "      <td>233.30</td>\n",
       "      <td>236.75</td>\n",
       "      <td>232.00</td>\n",
       "      <td>236.25</td>\n",
       "      <td>236.10</td>\n",
       "      <td>2349368</td>\n",
       "      <td>5503.90</td>\n",
       "    </tr>\n",
       "    <tr>\n",
       "      <th>4</th>\n",
       "      <td>2018-09-24</td>\n",
       "      <td>233.55</td>\n",
       "      <td>239.20</td>\n",
       "      <td>230.75</td>\n",
       "      <td>234.00</td>\n",
       "      <td>233.30</td>\n",
       "      <td>3423509</td>\n",
       "      <td>7999.55</td>\n",
       "    </tr>\n",
       "  </tbody>\n",
       "</table>\n",
       "</div>"
      ],
      "text/plain": [
       "         Date    Open    High     Low    Last   Close  Total Trade Quantity  \\\n",
       "0  2018-09-28  234.05  235.95  230.20  233.50  233.75               3069914   \n",
       "1  2018-09-27  234.55  236.80  231.10  233.80  233.25               5082859   \n",
       "2  2018-09-26  240.00  240.00  232.50  235.00  234.25               2240909   \n",
       "3  2018-09-25  233.30  236.75  232.00  236.25  236.10               2349368   \n",
       "4  2018-09-24  233.55  239.20  230.75  234.00  233.30               3423509   \n",
       "\n",
       "   Turnover (Lacs)  \n",
       "0          7162.35  \n",
       "1         11859.95  \n",
       "2          5248.60  \n",
       "3          5503.90  \n",
       "4          7999.55  "
      ]
     },
     "execution_count": 5,
     "metadata": {},
     "output_type": "execute_result"
    }
   ],
   "source": [
    "url = 'https://raw.githubusercontent.com/mwitiderrick/stockprice/master/NSE-TATAGLOBAL.csv'\n",
    "dft = pd.read_csv(url)\n",
    "dft.head()\n",
    "#Thus the dataset is represented here\n",
    "#Under the required coulmn headings\n",
    "#Here we use the url link with csv as the extention"
   ]
  },
  {
   "cell_type": "markdown",
   "id": "df3d4f83",
   "metadata": {},
   "source": [
    "# Splitting the dataset into test and train sections"
   ]
  },
  {
   "cell_type": "code",
   "execution_count": 6,
   "id": "1c1f4ceb",
   "metadata": {},
   "outputs": [],
   "source": [
    "training_set = dft.iloc[:, 1:2].values"
   ]
  },
  {
   "cell_type": "markdown",
   "id": "a77b7ad0",
   "metadata": {},
   "source": [
    "# Minmax scalar for scaling the dataset"
   ]
  },
  {
   "cell_type": "code",
   "execution_count": 7,
   "id": "1f22c337",
   "metadata": {},
   "outputs": [],
   "source": [
    "#Here we scale the dataset using only 0 and 1\n",
    "from sklearn.preprocessing import MinMaxScaler\n",
    "sc = MinMaxScaler(feature_range=(0,1))\n",
    "training_set_scaled = sc.fit_transform(training_set)"
   ]
  },
  {
   "cell_type": "code",
   "execution_count": null,
   "id": "97870ea3",
   "metadata": {},
   "outputs": [],
   "source": [
    "We want our data to be in the form of a 3D array for our LSTM model. First, we create data in 60 timesteps and \n",
    "convert it into an array using NumPy. \n",
    "Then, we convert the data into a 3D array with X_train samples, 60 timestamps, and one feature at each step.We train the \n",
    "model using "
   ]
  },
  {
   "cell_type": "code",
   "execution_count": 8,
   "id": "d461d29a",
   "metadata": {},
   "outputs": [],
   "source": [
    "X_train = []\n",
    "y_train = []\n",
    "for i in range(60, 2035):\n",
    "    X_train.append(training_set_scaled[i-60:i, 0])\n",
    "    y_train.append(training_set_scaled[i, 0])\n",
    "X_train, y_train = np.array(X_train), np.array(y_train)\n",
    "\n",
    "X_train = np.reshape(X_train, (X_train.shape[0], X_train.shape[1], 1))"
   ]
  },
  {
   "cell_type": "code",
   "execution_count": 10,
   "id": "f1d2208e",
   "metadata": {},
   "outputs": [],
   "source": [
    "from keras.models import Sequential\n",
    "from keras.layers import LSTM\n",
    "from keras.layers import Dropout\n",
    "from keras.layers import Dense \n",
    "#Using keras library dataset we can use LSTM (Long short term memory network)\n"
   ]
  },
  {
   "cell_type": "code",
   "execution_count": 11,
   "id": "77185cf4",
   "metadata": {},
   "outputs": [
    {
     "name": "stdout",
     "output_type": "stream",
     "text": [
      "Epoch 1/100\n",
      "62/62 [==============================] - 24s 158ms/step - loss: 0.0109\n",
      "Epoch 2/100\n",
      "62/62 [==============================] - 10s 166ms/step - loss: 0.0034\n",
      "Epoch 3/100\n",
      "62/62 [==============================] - 10s 161ms/step - loss: 0.0027\n",
      "Epoch 4/100\n",
      "62/62 [==============================] - 10s 154ms/step - loss: 0.0026\n",
      "Epoch 5/100\n",
      "62/62 [==============================] - 10s 168ms/step - loss: 0.0026\n",
      "Epoch 6/100\n",
      "62/62 [==============================] - 10s 166ms/step - loss: 0.0026\n",
      "Epoch 7/100\n",
      "62/62 [==============================] - 10s 167ms/step - loss: 0.0022\n",
      "Epoch 8/100\n",
      "62/62 [==============================] - 10s 169ms/step - loss: 0.0021\n",
      "Epoch 9/100\n",
      "62/62 [==============================] - 10s 164ms/step - loss: 0.0022\n",
      "Epoch 10/100\n",
      "62/62 [==============================] - 11s 171ms/step - loss: 0.0021\n",
      "Epoch 11/100\n",
      "62/62 [==============================] - 10s 163ms/step - loss: 0.0019\n",
      "Epoch 12/100\n",
      "62/62 [==============================] - 10s 164ms/step - loss: 0.0020\n",
      "Epoch 13/100\n",
      "62/62 [==============================] - 11s 170ms/step - loss: 0.0019\n",
      "Epoch 14/100\n",
      "62/62 [==============================] - 10s 156ms/step - loss: 0.0018\n",
      "Epoch 15/100\n",
      "62/62 [==============================] - 9s 149ms/step - loss: 0.0017\n",
      "Epoch 16/100\n",
      "62/62 [==============================] - 10s 161ms/step - loss: 0.0017\n",
      "Epoch 17/100\n",
      "62/62 [==============================] - 10s 155ms/step - loss: 0.0015\n",
      "Epoch 18/100\n",
      "62/62 [==============================] - 10s 160ms/step - loss: 0.0016\n",
      "Epoch 19/100\n",
      "62/62 [==============================] - 10s 158ms/step - loss: 0.0015\n",
      "Epoch 20/100\n",
      "62/62 [==============================] - 10s 153ms/step - loss: 0.0013\n",
      "Epoch 21/100\n",
      "62/62 [==============================] - 10s 161ms/step - loss: 0.0013\n",
      "Epoch 22/100\n",
      "62/62 [==============================] - 10s 158ms/step - loss: 0.0013\n",
      "Epoch 23/100\n",
      "62/62 [==============================] - 10s 164ms/step - loss: 0.0015\n",
      "Epoch 24/100\n",
      "62/62 [==============================] - 10s 155ms/step - loss: 0.0014\n",
      "Epoch 25/100\n",
      "62/62 [==============================] - 9s 152ms/step - loss: 0.0014\n",
      "Epoch 26/100\n",
      "62/62 [==============================] - 10s 160ms/step - loss: 0.0012\n",
      "Epoch 27/100\n",
      "62/62 [==============================] - 10s 155ms/step - loss: 0.0011\n",
      "Epoch 28/100\n",
      "62/62 [==============================] - 10s 156ms/step - loss: 0.0012\n",
      "Epoch 29/100\n",
      "62/62 [==============================] - 10s 160ms/step - loss: 0.0012\n",
      "Epoch 30/100\n",
      "62/62 [==============================] - 10s 154ms/step - loss: 0.0012\n",
      "Epoch 31/100\n",
      "62/62 [==============================] - 10s 160ms/step - loss: 0.0011\n",
      "Epoch 32/100\n",
      "62/62 [==============================] - 9s 149ms/step - loss: 0.0012\n",
      "Epoch 33/100\n",
      "62/62 [==============================] - 9s 147ms/step - loss: 0.0012\n",
      "Epoch 34/100\n",
      "62/62 [==============================] - 9s 147ms/step - loss: 9.5453e-04\n",
      "Epoch 35/100\n",
      "62/62 [==============================] - 9s 152ms/step - loss: 0.0013\n",
      "Epoch 36/100\n",
      "62/62 [==============================] - 10s 154ms/step - loss: 0.0011\n",
      "Epoch 37/100\n",
      "62/62 [==============================] - 8s 122ms/step - loss: 0.0012\n",
      "Epoch 38/100\n",
      "62/62 [==============================] - 8s 134ms/step - loss: 9.7724e-04\n",
      "Epoch 39/100\n",
      "62/62 [==============================] - 9s 138ms/step - loss: 0.0012\n",
      "Epoch 40/100\n",
      "62/62 [==============================] - 9s 140ms/step - loss: 0.0010\n",
      "Epoch 41/100\n",
      "62/62 [==============================] - 9s 141ms/step - loss: 8.6681e-04\n",
      "Epoch 42/100\n",
      "62/62 [==============================] - 9s 143ms/step - loss: 9.0231e-04\n",
      "Epoch 43/100\n",
      "62/62 [==============================] - 9s 138ms/step - loss: 8.8990e-04\n",
      "Epoch 44/100\n",
      "62/62 [==============================] - 9s 148ms/step - loss: 8.4987e-04\n",
      "Epoch 45/100\n",
      "62/62 [==============================] - 10s 153ms/step - loss: 8.2828e-04\n",
      "Epoch 46/100\n",
      "62/62 [==============================] - 9s 150ms/step - loss: 8.5564e-04\n",
      "Epoch 47/100\n",
      "62/62 [==============================] - 9s 145ms/step - loss: 8.6360e-04\n",
      "Epoch 48/100\n",
      "62/62 [==============================] - 9s 150ms/step - loss: 8.4810e-04\n",
      "Epoch 49/100\n",
      "62/62 [==============================] - 9s 150ms/step - loss: 8.5511e-04\n",
      "Epoch 50/100\n",
      "62/62 [==============================] - 9s 147ms/step - loss: 9.3510e-04\n",
      "Epoch 51/100\n",
      "62/62 [==============================] - 9s 138ms/step - loss: 8.4321e-04\n",
      "Epoch 52/100\n",
      "62/62 [==============================] - 9s 147ms/step - loss: 8.7912e-04\n",
      "Epoch 53/100\n",
      "62/62 [==============================] - 9s 149ms/step - loss: 8.1964e-04\n",
      "Epoch 54/100\n",
      "62/62 [==============================] - 9s 147ms/step - loss: 7.8501e-04\n",
      "Epoch 55/100\n",
      "62/62 [==============================] - 9s 152ms/step - loss: 8.9679e-04\n",
      "Epoch 56/100\n",
      "62/62 [==============================] - 9s 153ms/step - loss: 7.3880e-04\n",
      "Epoch 57/100\n",
      "62/62 [==============================] - 9s 153ms/step - loss: 8.0838e-04\n",
      "Epoch 58/100\n",
      "62/62 [==============================] - 10s 155ms/step - loss: 8.9113e-04\n",
      "Epoch 59/100\n",
      "62/62 [==============================] - 10s 157ms/step - loss: 7.4997e-04\n",
      "Epoch 60/100\n",
      "62/62 [==============================] - 10s 161ms/step - loss: 9.4141e-04\n",
      "Epoch 61/100\n",
      "62/62 [==============================] - 10s 167ms/step - loss: 6.9851e-04\n",
      "Epoch 62/100\n",
      "62/62 [==============================] - 10s 167ms/step - loss: 7.4264e-04\n",
      "Epoch 63/100\n",
      "62/62 [==============================] - 10s 165ms/step - loss: 7.3523e-04\n",
      "Epoch 64/100\n",
      "62/62 [==============================] - 10s 169ms/step - loss: 7.6638e-04\n",
      "Epoch 65/100\n",
      "62/62 [==============================] - 10s 161ms/step - loss: 8.5344e-04\n",
      "Epoch 66/100\n",
      "62/62 [==============================] - 10s 165ms/step - loss: 6.7471e-04\n",
      "Epoch 67/100\n",
      "62/62 [==============================] - 11s 170ms/step - loss: 7.0676e-04\n",
      "Epoch 68/100\n",
      "62/62 [==============================] - 10s 165ms/step - loss: 7.7173e-04\n",
      "Epoch 69/100\n",
      "62/62 [==============================] - 10s 166ms/step - loss: 8.6894e-04\n",
      "Epoch 70/100\n",
      "62/62 [==============================] - 11s 171ms/step - loss: 7.3332e-04\n",
      "Epoch 71/100\n",
      "62/62 [==============================] - 10s 167ms/step - loss: 7.6074e-04\n",
      "Epoch 72/100\n",
      "62/62 [==============================] - 10s 167ms/step - loss: 6.6641e-04\n",
      "Epoch 73/100\n",
      "62/62 [==============================] - 11s 172ms/step - loss: 7.6696e-04\n",
      "Epoch 74/100\n",
      "62/62 [==============================] - 10s 167ms/step - loss: 6.4394e-04\n",
      "Epoch 75/100\n",
      "62/62 [==============================] - 10s 166ms/step - loss: 7.0544e-04\n",
      "Epoch 76/100\n",
      "62/62 [==============================] - 10s 168ms/step - loss: 6.5940e-04\n",
      "Epoch 77/100\n",
      "62/62 [==============================] - 10s 166ms/step - loss: 6.0935e-04\n",
      "Epoch 78/100\n",
      "62/62 [==============================] - 10s 168ms/step - loss: 6.7422e-04\n",
      "Epoch 79/100\n",
      "62/62 [==============================] - 10s 165ms/step - loss: 6.9372e-04\n",
      "Epoch 80/100\n",
      "62/62 [==============================] - 10s 165ms/step - loss: 6.9052e-04\n",
      "Epoch 81/100\n",
      "62/62 [==============================] - 11s 170ms/step - loss: 6.4453e-04\n",
      "Epoch 82/100\n",
      "62/62 [==============================] - 10s 166ms/step - loss: 6.9419e-04\n",
      "Epoch 83/100\n",
      "62/62 [==============================] - 9s 142ms/step - loss: 6.3735e-04\n",
      "Epoch 84/100\n",
      "62/62 [==============================] - 10s 158ms/step - loss: 6.5885e-04\n",
      "Epoch 85/100\n",
      "62/62 [==============================] - 134s 2s/step - loss: 7.5292e-04\n",
      "Epoch 86/100\n",
      "62/62 [==============================] - 8s 126ms/step - loss: 8.1117e-04\n",
      "Epoch 87/100\n",
      "62/62 [==============================] - 9s 149ms/step - loss: 6.0359e-04\n",
      "Epoch 88/100\n",
      "62/62 [==============================] - 9s 151ms/step - loss: 6.1708e-04\n",
      "Epoch 89/100\n",
      "62/62 [==============================] - 10s 154ms/step - loss: 6.6785e-04\n",
      "Epoch 90/100\n",
      "62/62 [==============================] - 9s 150ms/step - loss: 6.6101e-04\n",
      "Epoch 91/100\n",
      "62/62 [==============================] - 9s 150ms/step - loss: 5.6068e-04\n",
      "Epoch 92/100\n",
      "62/62 [==============================] - 9s 148ms/step - loss: 6.8134e-04\n",
      "Epoch 93/100\n",
      "62/62 [==============================] - 9s 153ms/step - loss: 6.1389e-04\n",
      "Epoch 94/100\n",
      "62/62 [==============================] - 9s 153ms/step - loss: 5.9880e-04\n",
      "Epoch 95/100\n",
      "62/62 [==============================] - 10s 159ms/step - loss: 5.4872e-04\n",
      "Epoch 96/100\n",
      "62/62 [==============================] - 10s 158ms/step - loss: 6.3148e-04\n",
      "Epoch 97/100\n",
      "62/62 [==============================] - 9s 153ms/step - loss: 6.4125e-04\n",
      "Epoch 98/100\n",
      "62/62 [==============================] - 10s 153ms/step - loss: 6.6820e-04\n",
      "Epoch 99/100\n",
      "62/62 [==============================] - 10s 157ms/step - loss: 6.1068e-04\n",
      "Epoch 100/100\n",
      "62/62 [==============================] - 9s 150ms/step - loss: 5.7951e-04\n"
     ]
    },
    {
     "data": {
      "text/plain": [
       "<keras.callbacks.History at 0x1b09139ab80>"
      ]
     },
     "execution_count": 11,
     "metadata": {},
     "output_type": "execute_result"
    }
   ],
   "source": [
    "model = Sequential()\n",
    "\n",
    "model.add(LSTM(units=50,return_sequences=True,input_shape=(X_train.shape[1], 1)))\n",
    "model.add(Dropout(0.2))\n",
    "\n",
    "model.add(LSTM(units=50,return_sequences=True))\n",
    "model.add(Dropout(0.2))\n",
    "\n",
    "model.add(LSTM(units=50,return_sequences=True))\n",
    "model.add(Dropout(0.2))\n",
    "\n",
    "model.add(LSTM(units=50))\n",
    "model.add(Dropout(0.2))\n",
    "\n",
    "model.add(Dense(units=1))\n",
    "\n",
    "model.compile(optimizer='adam',loss='mean_squared_error')\n",
    "\n",
    "#We compile the model using the adam optimizer and set the loss as the mean_squarred_error\n",
    "model.fit(X_train,y_train,epochs=100,batch_size=32)\n",
    "#Thus we have succesfully trained the model using adam optimizer and LSTM"
   ]
  },
  {
   "cell_type": "markdown",
   "id": "b35d617b",
   "metadata": {},
   "source": [
    "# Importing the testing dataset"
   ]
  },
  {
   "cell_type": "code",
   "execution_count": 13,
   "id": "780dde6c",
   "metadata": {
    "scrolled": true
   },
   "outputs": [],
   "source": [
    "url = 'https://raw.githubusercontent.com/mwitiderrick/stockprice/master/tatatest.csv'\n",
    "dataset_test = pd.read_csv(url)\n",
    "real_stock_price = dataset_test.iloc[:, 1:2].values"
   ]
  },
  {
   "cell_type": "code",
   "execution_count": null,
   "id": "14d227e5",
   "metadata": {},
   "outputs": [],
   "source": [
    "Before predicting future stock prices, we have to manipulate the training set; \n",
    "we merge the training set and the test set on the 0 axis, set the time step to 60, \n",
    "use minmaxscaler, and reshape the dataset as done previously. \n"
   ]
  },
  {
   "cell_type": "code",
   "execution_count": 15,
   "id": "a5e40e7e",
   "metadata": {},
   "outputs": [
    {
     "name": "stdout",
     "output_type": "stream",
     "text": [
      "1/1 [==============================] - 10s 10s/step\n"
     ]
    }
   ],
   "source": [
    "dataset_total = pd.concat((dft['Open'], dataset_test['Open']), axis = 0)\n",
    "inputs = dataset_total[len(dataset_total) - len(dataset_test) - 60:].values\n",
    "inputs = inputs.reshape(-1,1)\n",
    "inputs = sc.transform(inputs)\n",
    "X_test = []\n",
    "for i in range(60, 76):\n",
    "    X_test.append(inputs[i-60:i, 0])\n",
    "X_test = np.array(X_test)\n",
    "X_test = np.reshape(X_test, (X_test.shape[0], X_test.shape[1], 1))\n",
    "predicted_stock_price = model.predict(X_test)\n",
    "predicted_stock_price = sc.inverse_transform(predicted_stock_price)"
   ]
  },
  {
   "cell_type": "code",
   "execution_count": 16,
   "id": "fdc30820",
   "metadata": {
    "scrolled": true
   },
   "outputs": [
    {
     "data": {
      "image/png": "[encoded data removed]",
      "text/plain": [
       "<Figure size 432x288 with 1 Axes>"
      ]
     },
     "metadata": {
      "needs_background": "light"
     },
     "output_type": "display_data"
    }
   ],
   "source": [
    "plt.plot(real_stock_price, color = 'black', label = 'TATA Stock Price')\n",
    "plt.plot(predicted_stock_price, color = 'green', label = 'Predicted TATA Stock Price')\n",
    "plt.title('TATA Stock Price Prediction')\n",
    "plt.xlabel('Time')\n",
    "plt.ylabel('TATA Stock Price')\n",
    "plt.legend()\n",
    "plt.show()\n",
    "#Here using pyplot library we can plot the the graph for Actual stock price and the predicted stock price "
   ]
  },
  {
   "cell_type": "code",
   "execution_count": null,
   "id": "b3c489c9",
   "metadata": {},
   "outputs": [],
   "source": [
    "here we can observe that the prediction line is not seen to be accurate initially before two months.\n",
    "Later the prediction line is inline with the actual stock price.Thus using the ML model we predicted the future stock prices\n",
    "based on data of  2036 days."
   ]
  }
 ],
 "metadata": {
  "kernelspec": {
   "display_name": "Python 3",
   "language": "python",
   "name": "python3"
  },
  "language_info": {
   "codemirror_mode": {
    "name": "ipython",
    "version": 3
   },
   "file_extension": ".py",
   "mimetype": "text/x-python",
   "name": "python",
   "nbconvert_exporter": "python",
   "pygments_lexer": "ipython3",
   "version": "3.8.8"
  }
 },
 "nbformat": 4,
 "nbformat_minor": 5
}
